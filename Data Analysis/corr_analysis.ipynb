{
 "cells": [
  {
   "cell_type": "code",
   "execution_count": null,
   "id": "4a4fe72a",
   "metadata": {},
   "outputs": [],
   "source": [
    "import pandas as pd\n",
    "import numpy as np\n",
    "import pandas_profiling\n",
    "import matplotlib.pyplot as plt \n",
    "import seaborn as sns"
   ]
  },
  {
   "cell_type": "code",
   "execution_count": null,
   "id": "8fa7c2e7",
   "metadata": {},
   "outputs": [],
   "source": [
    "pd.options.display.float_format = '{:.1f}'.format"
   ]
  },
  {
   "cell_type": "code",
   "execution_count": null,
   "id": "2d6b97e7",
   "metadata": {},
   "outputs": [],
   "source": [
    "youtube = pd.read_csv('#### INPUT FILE ROOT ####')"
   ]
  },
  {
   "cell_type": "code",
   "execution_count": null,
   "id": "236ec7c7",
   "metadata": {},
   "outputs": [],
   "source": [
    "youtube.head()"
   ]
  },
  {
   "cell_type": "code",
   "execution_count": null,
   "id": "8e8ff02b",
   "metadata": {},
   "outputs": [],
   "source": [
    "#결측값 처리\n",
    "for i in range(len(youtube)):\n",
    "    if(youtube['Stock'][i] != youtube['Stock'][i]):\n",
    "        youtube.drop(index=i, axis=0,inplace = True)\n",
    "        continue\n",
    "        \n",
    "    if(youtube['#### COLUMN NAME ####'][i]=='#N/A'):\n",
    "        youtube.drop(index=i, axis=0,inplace = True)\n",
    "\n",
    "youtube"
   ]
  },
  {
   "cell_type": "code",
   "execution_count": null,
   "id": "cedc3d32",
   "metadata": {},
   "outputs": [],
   "source": [
    "#분석과 관련 없는 열 제거\n",
    "youtube.drop(['Code','Start Date','End Date'], axis=1,inplace = True)\n",
    "youtube.head()"
   ]
  },
  {
   "cell_type": "code",
   "execution_count": null,
   "id": "e1f3bc5b",
   "metadata": {},
   "outputs": [],
   "source": [
    "#상관관계 분석 - pearson\n",
    "data = youtube.corr(method = 'pearson')\n",
    "df_heatmap = sns.heatmap(data, cbar = True, annot = True, annot_kws={'size' :11}, fmt = '.2f', square = True, cmap = 'Blues')"
   ]
  },
  {
   "cell_type": "code",
   "execution_count": null,
   "id": "35527a58",
   "metadata": {},
   "outputs": [],
   "source": [
    "#상관관계 분석 - spearman\n",
    "data = youtube.corr(method = 'spearman')\n",
    "df_heatmap = sns.heatmap(data, cbar = True, annot = True, annot_kws={'size' :11}, fmt = '.2f', square = True, cmap = 'Blues')"
   ]
  },
  {
   "cell_type": "code",
   "execution_count": null,
   "id": "014caeb0",
   "metadata": {},
   "outputs": [],
   "source": [
    "#상관관계 분석 - kendall\n",
    "data = youtube.corr(method = 'kendall')\n",
    "df_heatmap = sns.heatmap(data, cbar = True, annot = True, annot_kws={'size' :11}, fmt = '.2f', square = True, cmap = 'Blues')"
   ]
  }
 ],
 "metadata": {
  "kernelspec": {
   "display_name": "Python 3 (ipykernel)",
   "language": "python",
   "name": "python3"
  },
  "language_info": {
   "codemirror_mode": {
    "name": "ipython",
    "version": 3
   },
   "file_extension": ".py",
   "mimetype": "text/x-python",
   "name": "python",
   "nbconvert_exporter": "python",
   "pygments_lexer": "ipython3",
   "version": "3.8.7"
  }
 },
 "nbformat": 4,
 "nbformat_minor": 5
}
