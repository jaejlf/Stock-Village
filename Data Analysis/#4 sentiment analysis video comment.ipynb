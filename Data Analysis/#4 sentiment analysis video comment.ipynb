{
 "cells": [
  {
   "cell_type": "markdown",
   "id": "dd3fd8a0",
   "metadata": {},
   "source": [
    "#1 자연어 처리 학습시키기"
   ]
  },
  {
   "cell_type": "code",
   "execution_count": 1,
   "id": "df361d3a",
   "metadata": {},
   "outputs": [],
   "source": [
    "import warnings\n",
    "warnings.filterwarnings(action='ignore')"
   ]
  },
  {
   "cell_type": "code",
   "execution_count": 2,
   "id": "a0d017cf",
   "metadata": {},
   "outputs": [],
   "source": [
    "from konlpy.tag import Okt\n",
    "okt = Okt()"
   ]
  },
  {
   "cell_type": "code",
   "execution_count": 3,
   "id": "f08bc05f",
   "metadata": {},
   "outputs": [],
   "source": [
    "# 모델 불러오기(학습데이터: 네이버 영화 평가)\n",
    "from keras.models import load_model\n",
    "model = load_model('movie_review_model.h5')"
   ]
  },
  {
   "cell_type": "code",
   "execution_count": 4,
   "id": "d9407201",
   "metadata": {},
   "outputs": [],
   "source": [
    "def tokenize(doc):\n",
    "    #형태소와 품사를 join\n",
    "    return ['/'.join(t) for t in okt.pos(doc, norm=True, stem=True)]"
   ]
  },
  {
   "cell_type": "code",
   "execution_count": 5,
   "id": "3d9befc3",
   "metadata": {},
   "outputs": [],
   "source": [
    "import pandas as pd\n",
    "train_df = pd.read_csv(\"ratings_train.txt\", \"\\t\")"
   ]
  },
  {
   "cell_type": "code",
   "execution_count": 6,
   "id": "4b95d816",
   "metadata": {},
   "outputs": [],
   "source": [
    "train_df.isnull().any() #document에 null값이 있다.\n",
    "train_df['document'] = train_df['document'].fillna(''); #null값을 ''값으로 대체"
   ]
  },
  {
   "cell_type": "code",
   "execution_count": 7,
   "id": "ff196d56",
   "metadata": {},
   "outputs": [],
   "source": [
    "train_docs = [(tokenize(row[1]), row[2]) for row in train_df.values]"
   ]
  },
  {
   "cell_type": "code",
   "execution_count": 8,
   "id": "268c0a0a",
   "metadata": {},
   "outputs": [
    {
     "name": "stdout",
     "output_type": "stream",
     "text": [
      "토큰개수: 2159921\n"
     ]
    }
   ],
   "source": [
    "tokens = [t for d in train_docs for t in d[0]]\n",
    "print(\"토큰개수:\", len(tokens))"
   ]
  },
  {
   "cell_type": "code",
   "execution_count": 9,
   "id": "cd037279",
   "metadata": {},
   "outputs": [],
   "source": [
    "import nltk\n",
    "import numpy as np\n",
    "text = nltk.Text(tokens, name='NMSC')"
   ]
  },
  {
   "cell_type": "code",
   "execution_count": 10,
   "id": "8b4381bd",
   "metadata": {},
   "outputs": [],
   "source": [
    "FREQUENCY_COUNT = 100;\n",
    "selected_words = [f[0] for f in text.vocab().most_common(FREQUENCY_COUNT)]"
   ]
  },
  {
   "cell_type": "code",
   "execution_count": 11,
   "id": "34bdf60b",
   "metadata": {},
   "outputs": [],
   "source": [
    "#영화평가에서 사용된 단어리스트 문서에서 상위 100개들중 포함되는 단어들의 개수\n",
    "def term_frequency(doc):\n",
    "    return [doc.count(word) for word in selected_words]"
   ]
  },
  {
   "cell_type": "code",
   "execution_count": 12,
   "id": "b302ccbf",
   "metadata": {},
   "outputs": [],
   "source": [
    "def predict_sentiment(review):\n",
    "    token = tokenize(review)\n",
    "    tfq = term_frequency(token)\n",
    "    data = np.expand_dims(np.asarray(tfq).astype('float32'), axis=0)\n",
    "    score = float(model.predict(data))\n",
    "    #if(score > 0.5):\n",
    "        #print(f\"{review} ==> 긍정 ({round(score*100)}%)\")\n",
    "    #else:\n",
    "        #print(f\"{review} ==> 부정 ({round((1-score)*100)}%)\")\n",
    "    return score"
   ]
  },
  {
   "cell_type": "code",
   "execution_count": 13,
   "id": "bd70d30c",
   "metadata": {},
   "outputs": [
    {
     "data": {
      "text/plain": [
       "0.07519051432609558"
      ]
     },
     "execution_count": 13,
     "metadata": {},
     "output_type": "execute_result"
    }
   ],
   "source": [
    "predict_sentiment(\"재미 정말 없어요\")"
   ]
  },
  {
   "cell_type": "code",
   "execution_count": 14,
   "id": "fe584461",
   "metadata": {},
   "outputs": [
    {
     "data": {
      "text/plain": [
       "0.5579190850257874"
      ]
     },
     "execution_count": 14,
     "metadata": {},
     "output_type": "execute_result"
    }
   ],
   "source": [
    "predict_sentiment(\"괜찮\")"
   ]
  },
  {
   "cell_type": "code",
   "execution_count": 15,
   "id": "dbe3b889",
   "metadata": {},
   "outputs": [
    {
     "data": {
      "text/plain": [
       "0.7493253350257874"
      ]
     },
     "execution_count": 15,
     "metadata": {},
     "output_type": "execute_result"
    }
   ],
   "source": [
    "predict_sentiment(\"카카오 주가 전망 오히려 지금이 매력적인 이유\")"
   ]
  },
  {
   "cell_type": "markdown",
   "id": "6e608693",
   "metadata": {},
   "source": [
    "#2 분석할 댓글 데이터 가져오기"
   ]
  },
  {
   "cell_type": "code",
   "execution_count": 16,
   "id": "1871ecd2",
   "metadata": {},
   "outputs": [],
   "source": [
    "youtube = pd.read_csv('네이버 댓글.csv')"
   ]
  },
  {
   "cell_type": "code",
   "execution_count": 17,
   "id": "b0118eb4",
   "metadata": {},
   "outputs": [
    {
     "data": {
      "text/html": [
       "<div>\n",
       "<style scoped>\n",
       "    .dataframe tbody tr th:only-of-type {\n",
       "        vertical-align: middle;\n",
       "    }\n",
       "\n",
       "    .dataframe tbody tr th {\n",
       "        vertical-align: top;\n",
       "    }\n",
       "\n",
       "    .dataframe thead th {\n",
       "        text-align: right;\n",
       "    }\n",
       "</style>\n",
       "<table border=\"1\" class=\"dataframe\">\n",
       "  <thead>\n",
       "    <tr style=\"text-align: right;\">\n",
       "      <th></th>\n",
       "      <th>Stock</th>\n",
       "      <th>Date</th>\n",
       "      <th>Video ID</th>\n",
       "      <th>Comment</th>\n",
       "      <th>Comment Like</th>\n",
       "    </tr>\n",
       "  </thead>\n",
       "  <tbody>\n",
       "    <tr>\n",
       "      <th>0</th>\n",
       "      <td>네이버</td>\n",
       "      <td>2020-06-05</td>\n",
       "      <td>Rhf9unTdRGU</td>\n",
       "      <td>카카오 ㅡ269,000&lt;br&gt;네이버ㅡ239,000&lt;br&gt;일때 매수했는데,&lt;br&gt;지금...</td>\n",
       "      <td>2</td>\n",
       "    </tr>\n",
       "    <tr>\n",
       "      <th>1</th>\n",
       "      <td>네이버</td>\n",
       "      <td>2020-06-05</td>\n",
       "      <td>Rhf9unTdRGU</td>\n",
       "      <td>네이버나 카카오는 안사지더라구요&lt;br&gt;살려면 일찍 샀어야 되는데 ㅡㅡ</td>\n",
       "      <td>3</td>\n",
       "    </tr>\n",
       "    <tr>\n",
       "      <th>2</th>\n",
       "      <td>네이버</td>\n",
       "      <td>2020-06-05</td>\n",
       "      <td>Rhf9unTdRGU</td>\n",
       "      <td>네이버 카카오 20만원에 사서 늘 빨강빨강하긴한데..한주씩 산게 넘나 가슴아프네요</td>\n",
       "      <td>5</td>\n",
       "    </tr>\n",
       "    <tr>\n",
       "      <th>3</th>\n",
       "      <td>네이버</td>\n",
       "      <td>2020-06-05</td>\n",
       "      <td>Rhf9unTdRGU</td>\n",
       "      <td>댓글 처음 써보네요 카카오 네이버 고점에서 물려서 손절해야하나 걱정했는데 영상보고 ...</td>\n",
       "      <td>9</td>\n",
       "    </tr>\n",
       "    <tr>\n",
       "      <th>4</th>\n",
       "      <td>네이버</td>\n",
       "      <td>2020-06-05</td>\n",
       "      <td>-6Bw8HDy4oI</td>\n",
       "      <td>쌤.영상보시고 네이버 잡으신분들 축하드립니다.저는 쌤을 안지가 얼마 안되서 너무 안...</td>\n",
       "      <td>1</td>\n",
       "    </tr>\n",
       "    <tr>\n",
       "      <th>...</th>\n",
       "      <td>...</td>\n",
       "      <td>...</td>\n",
       "      <td>...</td>\n",
       "      <td>...</td>\n",
       "      <td>...</td>\n",
       "    </tr>\n",
       "    <tr>\n",
       "      <th>1642</th>\n",
       "      <td>네이버</td>\n",
       "      <td>2021-07-24</td>\n",
       "      <td>xqKsy-os8fk</td>\n",
       "      <td>카카오 오르면 또 네이버보단 카카오라고 할거임!&lt;br&gt;얼마전까지만해도 네이버보단 카...</td>\n",
       "      <td>4</td>\n",
       "    </tr>\n",
       "    <tr>\n",
       "      <th>1643</th>\n",
       "      <td>네이버</td>\n",
       "      <td>2021-07-24</td>\n",
       "      <td>xqKsy-os8fk</td>\n",
       "      <td>네이버가 다왔나&lt;br&gt;또지나 말바꾸기</td>\n",
       "      <td>5</td>\n",
       "    </tr>\n",
       "    <tr>\n",
       "      <th>1644</th>\n",
       "      <td>네이버</td>\n",
       "      <td>2021-07-24</td>\n",
       "      <td>xqKsy-os8fk</td>\n",
       "      <td>카카오 네이버 사놓고 강건너 불구경하면서 돈버는 전략도 좋은듯</td>\n",
       "      <td>14</td>\n",
       "    </tr>\n",
       "    <tr>\n",
       "      <th>1645</th>\n",
       "      <td>네이버</td>\n",
       "      <td>2021-07-24</td>\n",
       "      <td>xqKsy-os8fk</td>\n",
       "      <td>네이버 오르니 이런 유투브 올라오고 카카오 오르면 카카오 좋다는 영상 올려주고......</td>\n",
       "      <td>31</td>\n",
       "    </tr>\n",
       "    <tr>\n",
       "      <th>1646</th>\n",
       "      <td>네이버</td>\n",
       "      <td>2021-07-26</td>\n",
       "      <td>v2h2z7754kQ</td>\n",
       "      <td>네이버를 사지 못해 마니 아쉬운데 설명 자세하게 잘 들었습니다.^^&lt;br&gt;사업보고서...</td>\n",
       "      <td>2</td>\n",
       "    </tr>\n",
       "  </tbody>\n",
       "</table>\n",
       "<p>1647 rows × 5 columns</p>\n",
       "</div>"
      ],
      "text/plain": [
       "     Stock        Date     Video ID  \\\n",
       "0      네이버  2020-06-05  Rhf9unTdRGU   \n",
       "1      네이버  2020-06-05  Rhf9unTdRGU   \n",
       "2      네이버  2020-06-05  Rhf9unTdRGU   \n",
       "3      네이버  2020-06-05  Rhf9unTdRGU   \n",
       "4      네이버  2020-06-05  -6Bw8HDy4oI   \n",
       "...    ...         ...          ...   \n",
       "1642   네이버  2021-07-24  xqKsy-os8fk   \n",
       "1643   네이버  2021-07-24  xqKsy-os8fk   \n",
       "1644   네이버  2021-07-24  xqKsy-os8fk   \n",
       "1645   네이버  2021-07-24  xqKsy-os8fk   \n",
       "1646   네이버  2021-07-26  v2h2z7754kQ   \n",
       "\n",
       "                                                Comment  Comment Like  \n",
       "0     카카오 ㅡ269,000<br>네이버ㅡ239,000<br>일때 매수했는데,<br>지금...             2  \n",
       "1                네이버나 카카오는 안사지더라구요<br>살려면 일찍 샀어야 되는데 ㅡㅡ             3  \n",
       "2         네이버 카카오 20만원에 사서 늘 빨강빨강하긴한데..한주씩 산게 넘나 가슴아프네요             5  \n",
       "3     댓글 처음 써보네요 카카오 네이버 고점에서 물려서 손절해야하나 걱정했는데 영상보고 ...             9  \n",
       "4     쌤.영상보시고 네이버 잡으신분들 축하드립니다.저는 쌤을 안지가 얼마 안되서 너무 안...             1  \n",
       "...                                                 ...           ...  \n",
       "1642  카카오 오르면 또 네이버보단 카카오라고 할거임!<br>얼마전까지만해도 네이버보단 카...             4  \n",
       "1643                               네이버가 다왔나<br>또지나 말바꾸기             5  \n",
       "1644                 카카오 네이버 사놓고 강건너 불구경하면서 돈버는 전략도 좋은듯            14  \n",
       "1645  네이버 오르니 이런 유투브 올라오고 카카오 오르면 카카오 좋다는 영상 올려주고......            31  \n",
       "1646  네이버를 사지 못해 마니 아쉬운데 설명 자세하게 잘 들었습니다.^^<br>사업보고서...             2  \n",
       "\n",
       "[1647 rows x 5 columns]"
      ]
     },
     "execution_count": 17,
     "metadata": {},
     "output_type": "execute_result"
    }
   ],
   "source": [
    "youtube"
   ]
  },
  {
   "cell_type": "code",
   "execution_count": 18,
   "id": "1b06c646",
   "metadata": {},
   "outputs": [
    {
     "data": {
      "text/html": [
       "<div>\n",
       "<style scoped>\n",
       "    .dataframe tbody tr th:only-of-type {\n",
       "        vertical-align: middle;\n",
       "    }\n",
       "\n",
       "    .dataframe tbody tr th {\n",
       "        vertical-align: top;\n",
       "    }\n",
       "\n",
       "    .dataframe thead th {\n",
       "        text-align: right;\n",
       "    }\n",
       "</style>\n",
       "<table border=\"1\" class=\"dataframe\">\n",
       "  <thead>\n",
       "    <tr style=\"text-align: right;\">\n",
       "      <th></th>\n",
       "      <th>Stock</th>\n",
       "      <th>Date</th>\n",
       "      <th>Video ID</th>\n",
       "      <th>Comment</th>\n",
       "      <th>Comment Like</th>\n",
       "      <th>Sentiment Score</th>\n",
       "      <th>Sentiment</th>\n",
       "    </tr>\n",
       "  </thead>\n",
       "  <tbody>\n",
       "    <tr>\n",
       "      <th>0</th>\n",
       "      <td>네이버</td>\n",
       "      <td>2020-06-05</td>\n",
       "      <td>Rhf9unTdRGU</td>\n",
       "      <td>카카오 ㅡ269,000&lt;br&gt;네이버ㅡ239,000&lt;br&gt;일때 매수했는데,&lt;br&gt;지금...</td>\n",
       "      <td>2</td>\n",
       "      <td>0.525898</td>\n",
       "      <td>긍정</td>\n",
       "    </tr>\n",
       "    <tr>\n",
       "      <th>1</th>\n",
       "      <td>네이버</td>\n",
       "      <td>2020-06-05</td>\n",
       "      <td>Rhf9unTdRGU</td>\n",
       "      <td>네이버나 카카오는 안사지더라구요&lt;br&gt;살려면 일찍 샀어야 되는데 ㅡㅡ</td>\n",
       "      <td>3</td>\n",
       "      <td>0.375683</td>\n",
       "      <td>부정</td>\n",
       "    </tr>\n",
       "    <tr>\n",
       "      <th>2</th>\n",
       "      <td>네이버</td>\n",
       "      <td>2020-06-05</td>\n",
       "      <td>Rhf9unTdRGU</td>\n",
       "      <td>네이버 카카오 20만원에 사서 늘 빨강빨강하긴한데..한주씩 산게 넘나 가슴아프네요</td>\n",
       "      <td>5</td>\n",
       "      <td>0.461277</td>\n",
       "      <td>부정</td>\n",
       "    </tr>\n",
       "    <tr>\n",
       "      <th>3</th>\n",
       "      <td>네이버</td>\n",
       "      <td>2020-06-05</td>\n",
       "      <td>Rhf9unTdRGU</td>\n",
       "      <td>댓글 처음 써보네요 카카오 네이버 고점에서 물려서 손절해야하나 걱정했는데 영상보고 ...</td>\n",
       "      <td>9</td>\n",
       "      <td>0.470370</td>\n",
       "      <td>부정</td>\n",
       "    </tr>\n",
       "    <tr>\n",
       "      <th>4</th>\n",
       "      <td>네이버</td>\n",
       "      <td>2020-06-05</td>\n",
       "      <td>-6Bw8HDy4oI</td>\n",
       "      <td>쌤.영상보시고 네이버 잡으신분들 축하드립니다.저는 쌤을 안지가 얼마 안되서 너무 안...</td>\n",
       "      <td>1</td>\n",
       "      <td>0.263519</td>\n",
       "      <td>부정</td>\n",
       "    </tr>\n",
       "    <tr>\n",
       "      <th>...</th>\n",
       "      <td>...</td>\n",
       "      <td>...</td>\n",
       "      <td>...</td>\n",
       "      <td>...</td>\n",
       "      <td>...</td>\n",
       "      <td>...</td>\n",
       "      <td>...</td>\n",
       "    </tr>\n",
       "    <tr>\n",
       "      <th>1642</th>\n",
       "      <td>네이버</td>\n",
       "      <td>2021-07-24</td>\n",
       "      <td>xqKsy-os8fk</td>\n",
       "      <td>카카오 오르면 또 네이버보단 카카오라고 할거임!&lt;br&gt;얼마전까지만해도 네이버보단 카...</td>\n",
       "      <td>4</td>\n",
       "      <td>0.301711</td>\n",
       "      <td>부정</td>\n",
       "    </tr>\n",
       "    <tr>\n",
       "      <th>1643</th>\n",
       "      <td>네이버</td>\n",
       "      <td>2021-07-24</td>\n",
       "      <td>xqKsy-os8fk</td>\n",
       "      <td>네이버가 다왔나&lt;br&gt;또지나 말바꾸기</td>\n",
       "      <td>5</td>\n",
       "      <td>0.443441</td>\n",
       "      <td>부정</td>\n",
       "    </tr>\n",
       "    <tr>\n",
       "      <th>1644</th>\n",
       "      <td>네이버</td>\n",
       "      <td>2021-07-24</td>\n",
       "      <td>xqKsy-os8fk</td>\n",
       "      <td>카카오 네이버 사놓고 강건너 불구경하면서 돈버는 전략도 좋은듯</td>\n",
       "      <td>14</td>\n",
       "      <td>0.605848</td>\n",
       "      <td>긍정</td>\n",
       "    </tr>\n",
       "    <tr>\n",
       "      <th>1645</th>\n",
       "      <td>네이버</td>\n",
       "      <td>2021-07-24</td>\n",
       "      <td>xqKsy-os8fk</td>\n",
       "      <td>네이버 오르니 이런 유투브 올라오고 카카오 오르면 카카오 좋다는 영상 올려주고......</td>\n",
       "      <td>31</td>\n",
       "      <td>0.843992</td>\n",
       "      <td>긍정</td>\n",
       "    </tr>\n",
       "    <tr>\n",
       "      <th>1646</th>\n",
       "      <td>네이버</td>\n",
       "      <td>2021-07-26</td>\n",
       "      <td>v2h2z7754kQ</td>\n",
       "      <td>네이버를 사지 못해 마니 아쉬운데 설명 자세하게 잘 들었습니다.^^&lt;br&gt;사업보고서...</td>\n",
       "      <td>2</td>\n",
       "      <td>0.481660</td>\n",
       "      <td>부정</td>\n",
       "    </tr>\n",
       "  </tbody>\n",
       "</table>\n",
       "<p>1647 rows × 7 columns</p>\n",
       "</div>"
      ],
      "text/plain": [
       "     Stock        Date     Video ID  \\\n",
       "0      네이버  2020-06-05  Rhf9unTdRGU   \n",
       "1      네이버  2020-06-05  Rhf9unTdRGU   \n",
       "2      네이버  2020-06-05  Rhf9unTdRGU   \n",
       "3      네이버  2020-06-05  Rhf9unTdRGU   \n",
       "4      네이버  2020-06-05  -6Bw8HDy4oI   \n",
       "...    ...         ...          ...   \n",
       "1642   네이버  2021-07-24  xqKsy-os8fk   \n",
       "1643   네이버  2021-07-24  xqKsy-os8fk   \n",
       "1644   네이버  2021-07-24  xqKsy-os8fk   \n",
       "1645   네이버  2021-07-24  xqKsy-os8fk   \n",
       "1646   네이버  2021-07-26  v2h2z7754kQ   \n",
       "\n",
       "                                                Comment  Comment Like  \\\n",
       "0     카카오 ㅡ269,000<br>네이버ㅡ239,000<br>일때 매수했는데,<br>지금...             2   \n",
       "1                네이버나 카카오는 안사지더라구요<br>살려면 일찍 샀어야 되는데 ㅡㅡ             3   \n",
       "2         네이버 카카오 20만원에 사서 늘 빨강빨강하긴한데..한주씩 산게 넘나 가슴아프네요             5   \n",
       "3     댓글 처음 써보네요 카카오 네이버 고점에서 물려서 손절해야하나 걱정했는데 영상보고 ...             9   \n",
       "4     쌤.영상보시고 네이버 잡으신분들 축하드립니다.저는 쌤을 안지가 얼마 안되서 너무 안...             1   \n",
       "...                                                 ...           ...   \n",
       "1642  카카오 오르면 또 네이버보단 카카오라고 할거임!<br>얼마전까지만해도 네이버보단 카...             4   \n",
       "1643                               네이버가 다왔나<br>또지나 말바꾸기             5   \n",
       "1644                 카카오 네이버 사놓고 강건너 불구경하면서 돈버는 전략도 좋은듯            14   \n",
       "1645  네이버 오르니 이런 유투브 올라오고 카카오 오르면 카카오 좋다는 영상 올려주고......            31   \n",
       "1646  네이버를 사지 못해 마니 아쉬운데 설명 자세하게 잘 들었습니다.^^<br>사업보고서...             2   \n",
       "\n",
       "      Sentiment Score Sentiment  \n",
       "0            0.525898        긍정  \n",
       "1            0.375683        부정  \n",
       "2            0.461277        부정  \n",
       "3            0.470370        부정  \n",
       "4            0.263519        부정  \n",
       "...               ...       ...  \n",
       "1642         0.301711        부정  \n",
       "1643         0.443441        부정  \n",
       "1644         0.605848        긍정  \n",
       "1645         0.843992        긍정  \n",
       "1646         0.481660        부정  \n",
       "\n",
       "[1647 rows x 7 columns]"
      ]
     },
     "execution_count": 18,
     "metadata": {},
     "output_type": "execute_result"
    }
   ],
   "source": [
    "#1만 조회수 이상인 영상의 댓글들의 감성분석 결과와 점수를 추가\n",
    "youtube['Sentiment Score'] = 0.0\n",
    "youtube['Sentiment'] = \"\"\n",
    "for i in range(len(youtube)):\n",
    "    youtube['Sentiment Score'][i] = predict_sentiment(youtube['Comment'][i])\n",
    "    if youtube['Sentiment Score'][i] > 0.5:\n",
    "        youtube['Sentiment'][i] = \"긍정\"\n",
    "    else:    \n",
    "        youtube['Sentiment'][i] = \"부정\"\n",
    "youtube"
   ]
  },
  {
   "cell_type": "code",
   "execution_count": 19,
   "id": "ea96336d",
   "metadata": {},
   "outputs": [],
   "source": [
    "youtube.to_csv(\"네이버 감성분석.csv\",index=False)"
   ]
  }
 ],
 "metadata": {
  "kernelspec": {
   "display_name": "Python 3 (ipykernel)",
   "language": "python",
   "name": "python3"
  },
  "language_info": {
   "codemirror_mode": {
    "name": "ipython",
    "version": 3
   },
   "file_extension": ".py",
   "mimetype": "text/x-python",
   "name": "python",
   "nbconvert_exporter": "python",
   "pygments_lexer": "ipython3",
   "version": "3.8.7"
  }
 },
 "nbformat": 4,
 "nbformat_minor": 5
}
